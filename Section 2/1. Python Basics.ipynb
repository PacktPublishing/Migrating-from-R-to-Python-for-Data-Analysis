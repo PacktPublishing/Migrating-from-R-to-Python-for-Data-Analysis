{
 "cells": [
  {
   "cell_type": "markdown",
   "metadata": {},
   "source": [
    "# Python Basics\n",
    "\n",
    "In this section, we'll explore the basics of the python. Here are the topics that we will be spending time upon: \n",
    "\n",
    "- Variable Assignment\n",
    "- Operators in Python\n",
    "- String Methods\n",
    "- Print Methods"
   ]
  },
  {
   "cell_type": "markdown",
   "metadata": {},
   "source": [
    "___\n",
    "### Variable Assignment\n",
    "\n",
    "A name that is used to denote something or a value is called a variable. In python, variables can be declared and values can be assigned to it as follows."
   ]
  },
  {
   "cell_type": "code",
   "execution_count": 36,
   "metadata": {},
   "outputs": [
    {
     "name": "stdout",
     "output_type": "stream",
     "text": [
      "5\n",
      "5.0\n",
      "Hello!\n"
     ]
    }
   ],
   "source": [
    "x = 5 # integer\n",
    "y = 5. # float of a number\n",
    "z = \"Hello!\" # strings\n",
    "\n",
    "print(x)\n",
    "print(y)\n",
    "print(z)"
   ]
  },
  {
   "cell_type": "markdown",
   "metadata": {},
   "source": [
    "#### Some Rules to keep in mind: \n",
    "\n",
    "- Variables cannot start with a number. They have to start with a letter or the underscore character.\n",
    "- Variable names are case-sensitive "
   ]
  },
  {
   "cell_type": "markdown",
   "metadata": {},
   "source": [
    "___\n",
    "### Python Operators\n",
    "\n",
    "An operator is a symbol that tells the compiler to perform specific mathematical or logical manipulations\n",
    "A. Airthmetic\n",
    "B. Relational "
   ]
  },
  {
   "cell_type": "markdown",
   "metadata": {},
   "source": [
    "#### A. Airthmetic Operators\n",
    "\n",
    "| Symbol | Task Performed |\n",
    "|----|---|\n",
    "| +  | Addition |\n",
    "| -  | Subtraction |\n",
    "| /  | division |\n",
    "| %  | mod or remainder |\n",
    "| *  | multiplication |\n",
    "| //  | floor division |\n",
    "| **  | to the power of |"
   ]
  },
  {
   "cell_type": "code",
   "execution_count": 1,
   "metadata": {},
   "outputs": [
    {
     "name": "stdout",
     "output_type": "stream",
     "text": [
      "Addition: 4\n",
      "Subtraction: 5\n",
      "Multiplication: 72\n",
      "Division: 16.0\n"
     ]
    }
   ],
   "source": [
    "print(\"Addition:\" , 2 + 2 )  \n",
    "print(\"Subtraction:\" , 10-5 )  \n",
    "print(\"Multiplication:\" , 8 * 9 ) \n",
    "print(\"Division:\" , 80/5 ) "
   ]
  },
  {
   "cell_type": "code",
   "execution_count": 12,
   "metadata": {},
   "outputs": [
    {
     "name": "stdout",
     "output_type": "stream",
     "text": [
      "Modulus: 1\n",
      "Floor Division: 3\n",
      "Power of: 36\n"
     ]
    }
   ],
   "source": [
    "print(\"Mod (or remainder):\" ,10%3 )\n",
    "print(\"Floor Division:\" , 10//3 )\n",
    "print(\"Power:\" , 6**2)"
   ]
  },
  {
   "cell_type": "markdown",
   "metadata": {},
   "source": [
    "#### B. Boolean Operators\n",
    "\n",
    "| Symbol | Task Performed |\n",
    "|----|---|\n",
    "| == | True, if it is equal |\n",
    "| !=  | True, if not equal to |\n",
    "| < | less than |\n",
    "| > | greater than |\n",
    "| <=  | less than or equal to |\n",
    "| >=  | greater than or equal to |"
   ]
  },
  {
   "cell_type": "code",
   "execution_count": null,
   "metadata": {},
   "outputs": [],
   "source": [
    "# Let's create a variable x: \n",
    "x = 2"
   ]
  },
  {
   "cell_type": "code",
   "execution_count": 29,
   "metadata": {},
   "outputs": [
    {
     "name": "stdout",
     "output_type": "stream",
     "text": [
      "x equals 2: False\n",
      "x not equals 2: True\n",
      "x equals 3: False\n",
      "x less than 3: False\n",
      "x greater than 2: True\n"
     ]
    }
   ],
   "source": [
    "print(\"x equals 2:\" , x==2)\n",
    "print(\"x not equals 2:\" , x!=2)\n",
    "print(\"x equals 3:\" , x==3)\n",
    "\n",
    "print(\"x less than 3:\" , x<3)\n",
    "print(\"x greater than 2:\" , x>=3)\n"
   ]
  },
  {
   "cell_type": "markdown",
   "metadata": {},
   "source": [
    "---\n",
    "### Strings\n",
    "\n",
    "In Python, **single, double and triple quotes** are used to denote a string. Triple quotes can be used when declaring a paragraph/multiple lines."
   ]
  },
  {
   "cell_type": "code",
   "execution_count": 40,
   "metadata": {},
   "outputs": [],
   "source": [
    "string1 = 'single quotes'\n",
    "string2 = \"double qoutes\"\n",
    "string3 = \"\"\" triple \n",
    "                quotes for a paragraph\"\"\""
   ]
  },
  {
   "cell_type": "code",
   "execution_count": 41,
   "metadata": {},
   "outputs": [
    {
     "name": "stdout",
     "output_type": "stream",
     "text": [
      "single quotes double qoutes\n",
      " triple \n",
      "                quotes for a paragraph\n"
     ]
    }
   ],
   "source": [
    "print(string1 , string2 )\n",
    "print(string3)"
   ]
  },
  {
   "cell_type": "markdown",
   "metadata": {},
   "source": [
    "---\n",
    "### Print Methods:  \n",
    "\n",
    "We have seen the use of the print statement. Now let us look at some of its more features. "
   ]
  },
  {
   "cell_type": "code",
   "execution_count": 42,
   "metadata": {},
   "outputs": [
    {
     "name": "stdout",
     "output_type": "stream",
     "text": [
      "Your score in science exam is 90\n",
      "Your score in science exam is 90\n"
     ]
    }
   ],
   "source": [
    "print(\"Your score in science exam is 90\")\n",
    "print(\"Your score in science exam is {}\".format(90))\n"
   ]
  },
  {
   "cell_type": "code",
   "execution_count": 33,
   "metadata": {},
   "outputs": [
    {
     "name": "stdout",
     "output_type": "stream",
     "text": [
      "Your score in science exam is 90 and your score in maths is 85\n"
     ]
    }
   ],
   "source": [
    "print(\"Your score in science exam is {a} and your score in maths is {b}\".format(a=90 , b=85))"
   ]
  },
  {
   "cell_type": "markdown",
   "metadata": {},
   "source": [
    "#### Changing the number format: \n",
    "\n",
    "Here is the guide to use to convert one number format into another: \n",
    "    - %s -> string\n",
    "    - %d -> Integer\n",
    "    - %f -> Float\n",
    "    - %e -> exponential\n",
    "    \n",
    "Let's look at its usage now:"
   ]
  },
  {
   "cell_type": "code",
   "execution_count": 3,
   "metadata": {},
   "outputs": [
    {
     "name": "stdout",
     "output_type": "stream",
     "text": [
      "The integer of the number: 6\n",
      "The string of the number: 6.0\n",
      "The exponential of the number: 6.000000e+00\n",
      "The float of the number: 10.000000\n"
     ]
    }
   ],
   "source": [
    "num1 = 6.00\n",
    "num2 = 10\n",
    "\n",
    "print(\"The integer of the number: %d\" %num1)\n",
    "print(\"The string of the number: %s\" %num1)\n",
    "print(\"The exponential of the number: %e\" %num1)\n",
    "print(\"The float of the number: %f\" %num2)"
   ]
  },
  {
   "cell_type": "markdown",
   "metadata": {},
   "source": [
    "**Playing with the float format-**  \n",
    "We can further customize the format of the floats by speciying the decimal places after a dot. \n"
   ]
  },
  {
   "cell_type": "code",
   "execution_count": 35,
   "metadata": {},
   "outputs": [
    {
     "name": "stdout",
     "output_type": "stream",
     "text": [
      "The float of the number with 2 decimal places: 10.00\n"
     ]
    }
   ],
   "source": [
    "print(\"The float of the number with 2 decimal places: %.2f\" %num2) #two decimal places"
   ]
  },
  {
   "cell_type": "markdown",
   "metadata": {},
   "source": [
    "Congratulations!"
   ]
  },
  {
   "cell_type": "code",
   "execution_count": null,
   "metadata": {},
   "outputs": [],
   "source": []
  }
 ],
 "metadata": {
  "kernelspec": {
   "display_name": "Python 3",
   "language": "python",
   "name": "python3"
  },
  "language_info": {
   "codemirror_mode": {
    "name": "ipython",
    "version": 3
   },
   "file_extension": ".py",
   "mimetype": "text/x-python",
   "name": "python",
   "nbconvert_exporter": "python",
   "pygments_lexer": "ipython3",
   "version": "3.7.3"
  }
 },
 "nbformat": 4,
 "nbformat_minor": 2
}
