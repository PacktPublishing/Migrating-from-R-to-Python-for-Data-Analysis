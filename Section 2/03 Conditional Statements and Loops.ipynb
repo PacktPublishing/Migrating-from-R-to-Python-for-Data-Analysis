{
 "cells": [
  {
   "cell_type": "markdown",
   "metadata": {},
   "source": [
    "# Control Flow Statements\n",
    "\n",
    "##### In this notebook, we will cover the following parts: \n",
    "- If Statement\n",
    "    - Simple if statement\n",
    "    - If else \n",
    "    - If else if \n",
    "- Loop\n",
    "    - For loop \n",
    "    - while \n",
    "    - Break \n"
   ]
  },
  {
   "cell_type": "markdown",
   "metadata": {},
   "source": [
    "## 1. If Statement\n",
    "\n",
    "What is an if statement?  \n",
    "An 'if' statement tests for a condition, and then responds to that condition. If the condition is true, then whatever action is listed next gets carried out. You can test for multiple conditions at the same time, and respond appropriately to each condition."
   ]
  },
  {
   "cell_type": "markdown",
   "metadata": {},
   "source": [
    "#### A simple if statement"
   ]
  },
  {
   "cell_type": "code",
   "execution_count": null,
   "metadata": {},
   "outputs": [],
   "source": [
    "\n",
    "x = 12\n",
    "if x >10:\n",
    "    print(\"Hello World\")"
   ]
  },
  {
   "cell_type": "markdown",
   "metadata": {},
   "source": [
    "#### If-else"
   ]
  },
  {
   "cell_type": "code",
   "execution_count": null,
   "metadata": {},
   "outputs": [],
   "source": [
    "# If else statement: \n",
    "x = 10\n",
    "if x >10:\n",
    "    print(\"X is greater than 10\")\n",
    "else: \n",
    "    print(\"X is less than equal to 10 \")\n"
   ]
  },
  {
   "cell_type": "markdown",
   "metadata": {},
   "source": [
    "#### if-elif"
   ]
  },
  {
   "cell_type": "code",
   "execution_count": null,
   "metadata": {},
   "outputs": [],
   "source": [
    "x = 10\n",
    "if x >10:\n",
    "    print(\"X is greater than 10\")\n",
    "elif x <10 :\n",
    "    print(\"X is less than 10\")\n",
    "elif x <10 :\n",
    "    print(\"X is less than 10\")\n",
    "else:\n",
    "    print(\"X is equal to 10\")"
   ]
  },
  {
   "cell_type": "markdown",
   "metadata": {},
   "source": [
    "#### A note on Indentation:\n",
    "\n",
    "It is important to note that indentation in Python is important to maintain the structure and order of your code. "
   ]
  },
  {
   "cell_type": "markdown",
   "metadata": {},
   "source": [
    "## 2. Loops\n",
    "\n",
    "\n",
    "#### For loop:\n",
    "The 'for loop' statement is the most widely used iteration mechanisms in Python.\n",
    "\n",
    "Almost every structure in Python can be iterated (element by element) by a for loop:\n",
    "\n",
    "    a list, a tuple, a dictionary\n",
    "    \n",
    "The general format for a <code>for</code> loop in Python:\n",
    "\n",
    "        for item in object:\n",
    "            statements to do stuff"
   ]
  },
  {
   "cell_type": "code",
   "execution_count": 1,
   "metadata": {},
   "outputs": [
    {
     "name": "stdout",
     "output_type": "stream",
     "text": [
      "Square of  0 is 0\n",
      "Square of  1 is 1\n",
      "Square of  2 is 4\n",
      "Square of  3 is 9\n",
      "Square of  4 is 16\n",
      "Square of  5 is 25\n",
      "Square of  6 is 36\n",
      "Square of  7 is 49\n",
      "Square of  8 is 64\n",
      "Square of  9 is 81\n"
     ]
    }
   ],
   "source": [
    "list1 = range(10)\n",
    "\n",
    "for i in list1:\n",
    "    print( \"Square of \" , i , \"is\", i**2)"
   ]
  },
  {
   "cell_type": "markdown",
   "metadata": {},
   "source": [
    "#### While Loop:\n",
    "\n",
    "A while loop tests an initial condition. If that condition is true, the loop starts executing. Every time the loop finishes, the condition is reevaluated. As long as the condition remains true, the loop keeps executing. As soon as the condition becomes false, the loop stops executing.\n",
    "\n",
    "The general format of a while <code>while</code>  is:\n",
    "\n",
    "        while test condition:\n",
    "            code statements\n",
    "        else:\n",
    "            final code statements\n"
   ]
  },
  {
   "cell_type": "code",
   "execution_count": 1,
   "metadata": {},
   "outputs": [
    {
     "name": "stdout",
     "output_type": "stream",
     "text": [
      "1\n",
      "2\n",
      "3\n",
      "This is over\n"
     ]
    }
   ],
   "source": [
    "i = 1\n",
    "\n",
    "while i < 4 : \n",
    "    print(i) \n",
    "    i = i +1\n",
    "print('This is over')"
   ]
  },
  {
   "cell_type": "code",
   "execution_count": 3,
   "metadata": {},
   "outputs": [
    {
     "name": "stdout",
     "output_type": "stream",
     "text": [
      "i is currently:  1\n",
      " i is still less than 10, adding 1 to i\n",
      "i is currently:  2\n",
      " i is still less than 10, adding 1 to i\n",
      "i is currently:  3\n",
      " i is still less than 10, adding 1 to i\n",
      "i is currently:  4\n",
      " i is still less than 10, adding 1 to i\n",
      "i is currently:  5\n",
      " i is still less than 10, adding 1 to i\n",
      "i is currently:  6\n",
      " i is still less than 10, adding 1 to i\n",
      "i is currently:  7\n",
      " i is still less than 10, adding 1 to i\n",
      "i is currently:  8\n",
      " i is still less than 10, adding 1 to i\n",
      "i is currently:  9\n",
      " i is still less than 10, adding 1 to i\n",
      "Thats all!\n"
     ]
    }
   ],
   "source": [
    "i = 1\n",
    "\n",
    "while i < 10 : \n",
    "    print('i is currently: ',i)\n",
    "    print(' i is still less than 10, adding 1 to i')\n",
    "    i+=1\n",
    "    \n",
    "else:\n",
    "    print('Thats all!')"
   ]
  },
  {
   "cell_type": "markdown",
   "metadata": {},
   "source": [
    "#### Example: Using a combination of a loop and the if statements:"
   ]
  },
  {
   "cell_type": "code",
   "execution_count": 3,
   "metadata": {},
   "outputs": [
    {
     "name": "stdout",
     "output_type": "stream",
     "text": [
      "0\n",
      "Odd number\n",
      "2\n",
      "Odd number\n",
      "4\n",
      "Odd number\n",
      "6\n",
      "Odd number\n",
      "8\n",
      "Odd number\n"
     ]
    }
   ],
   "source": [
    "# Odd vs Even Numbers: \n",
    "\n",
    "for num in list1:\n",
    "    if num % 2 == 0:\n",
    "        print(num)\n",
    "    else:\n",
    "        print('Odd number')"
   ]
  },
  {
   "cell_type": "markdown",
   "metadata": {},
   "source": [
    "#### break, continue"
   ]
  },
  {
   "cell_type": "markdown",
   "metadata": {},
   "source": [
    "\n",
    "The basic format of the break and continue can be seen below: \n",
    "\n",
    "    while test:   \n",
    "        code statement  \n",
    "        if test:   \n",
    "            break  \n",
    "        if test:  \n",
    "            continue  \n",
    "    else:\n",
    "    \n",
    "The **break** part of the code tells to stop the loop if the said condition is met. The 'continue' part of the code tells the code to continue if the said condition is met. Note that the break and the continue statements are being used in conjunction to if statment. "
   ]
  },
  {
   "cell_type": "code",
   "execution_count": 6,
   "metadata": {},
   "outputs": [
    {
     "name": "stdout",
     "output_type": "stream",
     "text": [
      "x is currently:  0\n",
      " x is still less than 5, adding 1 to x\n",
      "continuing...\n",
      "x is currently:  1\n",
      " x is still less than 5, adding 1 to x\n",
      "continuing...\n",
      "x is currently:  2\n",
      " x is still less than 5, adding 1 to x\n",
      "continuing...\n",
      "x is currently:  3\n",
      " x is still less than 5, adding 1 to x\n",
      "continuing...\n",
      "x is currently:  4\n",
      " x is still less than 5, adding 1 to x\n",
      "Breaking because x==5\n"
     ]
    }
   ],
   "source": [
    "x = 0\n",
    "\n",
    "for x in range(10):\n",
    "    print ( 'x is currently: ',x )\n",
    "    print ( ' x is still less than 5, adding 1 to x' )\n",
    "    x+=1\n",
    "    if x ==5:\n",
    "        print ( 'Breaking because x==5' )\n",
    "        break\n",
    "    else:\n",
    "        print ( 'continuing...' )\n",
    "        continue"
   ]
  }
 ],
 "metadata": {
  "kernelspec": {
   "display_name": "Python 3",
   "language": "python",
   "name": "python3"
  },
  "language_info": {
   "codemirror_mode": {
    "name": "ipython",
    "version": 3
   },
   "file_extension": ".py",
   "mimetype": "text/x-python",
   "name": "python",
   "nbconvert_exporter": "python",
   "pygments_lexer": "ipython3",
   "version": "3.7.3"
  }
 },
 "nbformat": 4,
 "nbformat_minor": 2
}
